{
    "cells": [
        {
            "cell_type": "markdown",
            "source": [
                "# Monitoria 1: Introducción a Python\r\n",
                "\r\n",
                "## Instalación\r\n",
                "\r\n",
                "A diferencia de otros lenguajes en los que el compilador suele descargarse con el IDE, pyhton puede correr directamente desde la terminal y por lo tanto se debe [instalar](https://www.python.org/).\r\n",
                "\r\n",
                "Para correrlo desde el terminal recomiendo que se familiaricen con comandos de [Shell](https://devblogs.microsoft.com/scripting/table-of-basic-powershell-commands/). Sin embargo, un IDE que recomiendo es [Visual Studio Code](https://code.visualstudio.com/) pues es muy versatil y es compatible con muchos lenguajes de programación. Una vez en el VS Code solo es necesario agregar la extensión de Python. La pestaña de extensiones se puede abrir con el comando `Ctrl + Shift + x` cuyo resultado se muestra en la figura.\r\n",
                "\r\n",
                "\r\n",
                "<img src=\"https://code.visualstudio.com/assets/docs/editor/extension-marketplace/extensions-popular.png\" width=\"60%\">\r\n",
                "\r\n",
                "Con esto, ya podemos empezar a escribir código. En general, Python no cuenta con una interfaz gráfica con la que uno interactúa sino que la entrada y salida estandar son por la terminal. Al correr el siguiente ejemplo\r\n",
                "\r\n",
                "```python\r\n",
                "print(\"Hello World!\")\r\n",
                "```\r\n",
                "\r\n",
                "el resultado es que se imprime *Hello World!* en la terminal en la que se esté trabajando. Ejecutar un código se puede hacer desde el IDE o desde la terminal con el comando `python` seguido del nombre del archivo con su respectiva extensión.\r\n",
                "\r\n",
                "## Jupyter Notebooks\r\n",
                "\r\n",
                "Es muy común al momento de programar trabajar en códigos largos, querer editar solo un pequeño pedazo del código o tener comandos lentos que solo se quieren ejecutar una vez. Para este tipo de casos es mejor usar **cuadernos de Jupyter/Jupyter Notebooks**. Los cuadernos de Jupyter son ambientes de programación en el que se pueden ejecutar en un kernel comandos específicos en lugar de todo el código. Además permite mezclar texto con código permitiendo una exposición más clara de los temas. Para esto primero debemos ejecutar el comando \r\n",
                "\r\n",
                "```bash\r\n",
                "pip install jupyterlab\r\n",
                "```\r\n",
                "\r\n",
                "y agregar la extensión de Jupyter a VS Code. Con esto podemos ejecutar cuadernos de Jupyter (.ipynb). Por otro lado, Google tiene una herramienta gratuita llamada [Colaboratory](https://colab.research.google.com/notebooks/intro.ipynb) en la que pueden ejecutar cuadernos en linea. Un notebook está conformado por celdas de dos tipos: Código o Texto (Markdown). Por ejemplo, esto está escrito en una celda de Markdown."
            ],
            "metadata": {}
        },
        {
            "cell_type": "code",
            "execution_count": 2,
            "source": [
                "#Esto es una celda de código"
            ],
            "outputs": [],
            "metadata": {}
        },
        {
            "cell_type": "markdown",
            "source": [
                "**Las celdas de código no se ejecutan en el orden en el que aparecen sino en el orden en el que se ejecutan manualmente!**"
            ],
            "metadata": {}
        },
        {
            "cell_type": "markdown",
            "source": [
                "## Python\r\n",
                "\r\n",
                "Algo importante de Python es que, a diferencia de otros lenguajes, no usa `;` para separar comandos. Cada fila debe tener un único comando y estos se separan por saltos de linea. De igual forma, no se usan corchetes `{}` para separar entornos, sino que se usa dos puntos `:` para iniciar un nuevo entorno y este va a estar acotado por la indentación.\r\n",
                "\r\n",
                "### Variables y tipos de datos\r\n",
                "\r\n",
                "Hay tres tipos de datos básicos:\r\n",
                "1. `int`: Números enteros\r\n",
                "2. `float`: Números decimales\r\n",
                "3. `str`: Cadenas de texto\r\n",
                "4. `bool`: Valores boolenaos de verdad\r\n",
                "A diferencia de otros lenguajes, Python interpreta automáticamente el tipo de dato y al momento de declarar variables no es necesario decir cuál es.\r\n"
            ],
            "metadata": {}
        },
        {
            "cell_type": "code",
            "execution_count": 6,
            "source": [
                "print(type(9),type(3.6),type(\"Hola\"))"
            ],
            "outputs": [
                {
                    "output_type": "stream",
                    "name": "stdout",
                    "text": [
                        "<class 'int'> <class 'float'> <class 'str'>\n"
                    ]
                }
            ],
            "metadata": {}
        },
        {
            "cell_type": "code",
            "execution_count": 7,
            "source": [
                "v1 = 9\r\n",
                "v2 = 3.6\r\n",
                "v3 = \"Hola\"\r\n",
                "print(type(v1),type(v2),type(v3))"
            ],
            "outputs": [
                {
                    "output_type": "stream",
                    "name": "stdout",
                    "text": [
                        "<class 'int'> <class 'float'> <class 'str'>\n"
                    ]
                }
            ],
            "metadata": {}
        },
        {
            "cell_type": "markdown",
            "source": [
                "### Operaciones numéricas\r\n",
                "\r\n",
                "| Operación   | Comando |\r\n",
                "| ----------- | ----------- |\r\n",
                "| Exponente      | $**$       |\r\n",
                "| Multiplicación   | $*$        |\r\n",
                "| División   | $/$        |\r\n",
                "| División Entera   | $//$        |\r\n",
                "| Módulo   | $\\%$        |\r\n",
                "| Suma   | $+$        |\r\n",
                "| Resta   | $-$        |\r\n",
                "\r\n",
                "El resultado de una división siempre es un float. Entonces el resultado de $10/5$ es el float $2.0$, no el entero $2$."
            ],
            "metadata": {}
        },
        {
            "cell_type": "code",
            "execution_count": 9,
            "source": [
                "2/2"
            ],
            "outputs": [
                {
                    "output_type": "execute_result",
                    "data": {
                        "text/plain": [
                            "1.0"
                        ]
                    },
                    "metadata": {},
                    "execution_count": 9
                }
            ],
            "metadata": {}
        },
        {
            "cell_type": "code",
            "execution_count": 10,
            "source": [
                "2//2"
            ],
            "outputs": [
                {
                    "output_type": "execute_result",
                    "data": {
                        "text/plain": [
                            "1"
                        ]
                    },
                    "metadata": {},
                    "execution_count": 10
                }
            ],
            "metadata": {}
        },
        {
            "cell_type": "markdown",
            "source": [
                "### Operaciones de Caracteres\r\n",
                "\r\n",
                "| Operación   | Comando |\r\n",
                "| ----------- | ----------- |\r\n",
                "| Concatenación      | $+$       |\r\n",
                "|  Repetición | $*$        |\r\n",
                "\r\n",
                "### Operaciones de Booleanas\r\n",
                "\r\n",
                "| Operación   | Comando |\r\n",
                "| ----------- | ----------- |\r\n",
                "| $\\land$     | `and`       |\r\n",
                "|  $\\lor$     | `or`        |\r\n",
                "| $\\lnot$     | `not`       |\r\n",
                "\r\n",
                "### Condicionales\r\n",
                "\r\n",
                "La sisntaxis de un condicional es\r\n",
                "\r\n",
                "\r\n",
                "`if` expresion booleana`:`\r\n",
                "$\\\\ \\quad$ Código si es verdad\r\n"
            ],
            "metadata": {}
        },
        {
            "cell_type": "code",
            "execution_count": 11,
            "source": [
                "a = 2\r\n",
                "b = 3\r\n",
                "\r\n",
                "if(a!=b):\r\n",
                "    a=b\r\n",
                "print(a)"
            ],
            "outputs": [
                {
                    "output_type": "stream",
                    "name": "stdout",
                    "text": [
                        "3\n"
                    ]
                }
            ],
            "metadata": {}
        },
        {
            "cell_type": "code",
            "execution_count": 15,
            "source": [
                "a = 6\r\n",
                "b = 10\r\n",
                "if(a>b):\r\n",
                "    a += 1\r\n",
                "    b -= 1 #Ejemplo indentacion\r\n",
                "print(a,b)"
            ],
            "outputs": [
                {
                    "output_type": "stream",
                    "name": "stdout",
                    "text": [
                        "6 10\n"
                    ]
                }
            ],
            "metadata": {}
        },
        {
            "cell_type": "markdown",
            "source": [
                "Si quiero agregar varias casos puedo usar un `elif` (corto para else if), cuya sintaxis es\r\n",
                "\r\n",
                "`if` expresión booleana`:`\r\n",
                "$\\\\ \\quad$ Código si es verdad $\\\\$\r\n",
                "`elif` expresión booleana`:`\r\n",
                "$\\\\ \\quad$ Código si es verdad\r\n",
                "\r\n",
                "Y si quiero que haya código que se ejecute si no se cumple ninguna de las condiciones puedo acabar con un `else`.\r\n",
                "\r\n",
                "`if` expresión booleana`:`\r\n",
                "$\\\\ \\quad$ Código si es verdad $\\\\$\r\n",
                "`elif` expresión booleana`:`\r\n",
                "$\\\\ \\quad$ Código si es verdad $\\\\$\r\n",
                "`else:`\r\n",
                "$\\\\ \\quad$ Código\r\n",
                "\r\n",
                "### Arreglos y Slicing\r\n",
                "\r\n",
                "Una manera de hacer iteraciones sobre cosas es mediante el uso de arreglos. Estas son tuplas de tamaño arbitrario con datos. Los datos no tienen por qué ser del mismo tipo."
            ],
            "metadata": {}
        },
        {
            "cell_type": "code",
            "execution_count": 22,
            "source": [
                "array = [3,6,3.4, \"string\"]\r\n",
                "type(array)"
            ],
            "outputs": [
                {
                    "output_type": "execute_result",
                    "data": {
                        "text/plain": [
                            "list"
                        ]
                    },
                    "metadata": {},
                    "execution_count": 22
                }
            ],
            "metadata": {}
        },
        {
            "cell_type": "markdown",
            "source": [
                "Las posiciones van indexadas de 0 a n-1, donde n es el tamaño de la lista. Para acceder a posiciones específicas del arreglo se usan corchetes cuadrados `[]`. Se puede acceder a una sola posición del arreglo o a un subconjunto del mismo mediante slicing. Esto es `[inicio : fin : pasos]`, inicio es incluyente y fin es excluyente. Si se dejan vacios, los valores por default son iniciar en la posición cero, acabar en la última posición y avanzar de 1."
            ],
            "metadata": {}
        },
        {
            "cell_type": "code",
            "execution_count": 28,
            "source": [
                "print(array)\r\n",
                "print(array[3])\r\n",
                "print(array[:2])\r\n",
                "print(array[1:2]) #Es diferente a array[1]?\r\n",
                "print(array[::2])\r\n",
                "print(array[::-1])\r\n",
                "print(array[:-2])"
            ],
            "outputs": [
                {
                    "output_type": "stream",
                    "name": "stdout",
                    "text": [
                        "[3, 6, 3.4, 'string']\n",
                        "string\n",
                        "[3, 6]\n",
                        "[6]\n",
                        "[3, 3.4]\n",
                        "['string', 3.4, 6, 3]\n",
                        "[3, 6]\n"
                    ]
                }
            ],
            "metadata": {}
        },
        {
            "cell_type": "markdown",
            "source": [
                "### Ciclos\r\n",
                "En Python hay dos tipos de ciclos: `for` y `while`. Los ciclos `while` requieren de una condición y se realizan siempre que esta se cumpla. Por otro lado, los ciclos `for` necesitan de un objeto iterable e itera sobre los elementos del objeto."
            ],
            "metadata": {}
        },
        {
            "cell_type": "code",
            "execution_count": 34,
            "source": [
                "a = 100\r\n",
                "i = 1\r\n",
                "while i <= a:\r\n",
                "    if a%i == 0:\r\n",
                "        print(i)\r\n",
                "    i+=1"
            ],
            "outputs": [
                {
                    "output_type": "stream",
                    "name": "stdout",
                    "text": [
                        "1\n",
                        "2\n",
                        "4\n",
                        "5\n",
                        "10\n",
                        "20\n",
                        "25\n",
                        "50\n",
                        "100\n"
                    ]
                }
            ],
            "metadata": {}
        },
        {
            "cell_type": "code",
            "execution_count": 35,
            "source": [
                "for i in array:\r\n",
                "    print(i)"
            ],
            "outputs": [
                {
                    "output_type": "stream",
                    "name": "stdout",
                    "text": [
                        "3\n",
                        "6\n",
                        "3.4\n",
                        "string\n"
                    ]
                }
            ],
            "metadata": {}
        },
        {
            "cell_type": "markdown",
            "source": [
                "En ocasiones se usa la funcion `range(n)` que retorna una cadena con los números de 0 a n-1 para hacer ciclos con un número específico de iteraciones."
            ],
            "metadata": {}
        },
        {
            "cell_type": "code",
            "execution_count": 39,
            "source": [
                "for i in range(a):\r\n",
                "    if(not i): continue\r\n",
                "    if (not (a%i)):\r\n",
                "        print(i)"
            ],
            "outputs": [
                {
                    "output_type": "stream",
                    "name": "stdout",
                    "text": [
                        "1\n",
                        "2\n",
                        "4\n",
                        "5\n",
                        "10\n",
                        "20\n",
                        "25\n",
                        "50\n"
                    ]
                }
            ],
            "metadata": {}
        }
    ],
    "metadata": {
        "orig_nbformat": 4,
        "language_info": {
            "name": "python",
            "version": "3.9.5",
            "mimetype": "text/x-python",
            "codemirror_mode": {
                "name": "ipython",
                "version": 3
            },
            "pygments_lexer": "ipython3",
            "nbconvert_exporter": "python",
            "file_extension": ".py"
        },
        "kernelspec": {
            "name": "python3",
            "display_name": "Python 3.9.5 64-bit"
        },
        "interpreter": {
            "hash": "36f8b920ae9b11dd4f0e811cb3104d7bacd8a25d614cc25e6eeaf0af1a72e39e"
        }
    },
    "nbformat": 4,
    "nbformat_minor": 2
}